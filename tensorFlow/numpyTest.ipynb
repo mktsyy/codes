{
 "cells": [
  {
   "cell_type": "code",
   "execution_count": 1,
   "metadata": {},
   "outputs": [
    {
     "name": "stdout",
     "output_type": "stream",
     "text": [
      "[[1 2 3]\n",
      " [2 3 4]]\n",
      "number of dim: 2\n",
      "shape: (2, 3)\n",
      "size: 6\n"
     ]
    }
   ],
   "source": [
    "import numpy as np\n",
    "\n",
    "array1 = np.array([[1,2,3],\n",
    "                [2,3,4]])\n",
    "print (array1)\n",
    "print (\"number of dim:\",array1.ndim)#是几维数组\n",
    "print ('shape:',array1.shape)##是多少列\n",
    "print ('size:',array1.size)##y有多少元素"
   ]
  },
  {
   "cell_type": "code",
   "execution_count": 2,
   "metadata": {},
   "outputs": [
    {
     "name": "stdout",
     "output_type": "stream",
     "text": [
      "[[ 1.   2.8  4.6]\n",
      " [ 6.4  8.2 10. ]]\n"
     ]
    }
   ],
   "source": [
    "import numpy as np\n",
    "\n",
    "##a = np.array([2,23,4],dtype=np.int)##整数型\n",
    "##a = np.array([2,23,4],dtype=np.float)##浮点型\n",
    "#a = np.array([[2,23,4],\n",
    "#             [2,32,4]])##矩阵\n",
    "#a = np.zeros((3,4))#生产空矩阵\n",
    "#a = np.arange(10,20,2)#10开始到20结束，步长为2\n",
    "#a = np.arange(12).reshape((3,4))#生成3行4列数组\n",
    "#a = np.linspace(1,10,20)#生产从1到20的2o段数列\n",
    "a = np.linspace(1,10,6).reshape((2,3))\n",
    "##print (a.dtype)\n",
    "print (a)"
   ]
  },
  {
   "cell_type": "code",
   "execution_count": 42,
   "metadata": {},
   "outputs": [
    {
     "name": "stdout",
     "output_type": "stream",
     "text": [
      "[[0.4439481  0.1467039  0.71396203 0.06540045]\n",
      " [0.8132168  0.91174526 0.38081946 0.74953127]]\n",
      "[0.4439481  0.1467039  0.38081946 0.06540045]\n"
     ]
    }
   ],
   "source": [
    "import numpy as np\n",
    "\n",
    "#a = np.array([10,20,30,40])\n",
    "#a = np.array([[1,1],\n",
    " #            [0,1]])\n",
    "a = np.random.random((2,4))\n",
    "#b = np.arange(4).reshape((2,2))\n",
    "#b = np.arange(4)\n",
    "#print (a,b)\n",
    "\n",
    "print (a)\n",
    "#print (np.sum(a))\n",
    "# print (np.sum(a,axis=1))#行求和\n",
    "print (np.min(a,axis=0))#列求和\n",
    "#print (np.max(a))\n",
    "#c = a*b\n",
    "\n",
    "# c_dot = np.dot(a,b)\n",
    "#c_dot_2 = a.dot(b)#同上一句意思一样\n",
    "\n",
    "#print (a)\n",
    "#print (c)\n",
    "#print (c_dot)\n",
    "#print (c_dot_2)\n",
    "##c = a- b\n",
    "##c = a + b\n",
    "#c = b**2\n",
    "#c =  10*np.sin(a)\n",
    "#print (c)\n",
    "#print (b<3)##返回列表\n",
    "#print (b==3)"
   ]
  },
  {
   "cell_type": "code",
   "execution_count": 68,
   "metadata": {},
   "outputs": [
    {
     "name": "stdout",
     "output_type": "stream",
     "text": [
      "[12.5  8.5  4.5]\n"
     ]
    }
   ],
   "source": [
    "import numpy as np\n",
    "\n",
    "# a = np.arange(2,14).reshape(3,4)\n",
    "a = np.arange(14,2,-1).reshape(3,4)\n",
    "\n",
    "\n",
    "# print (np.argmin(a))##列出最小值索引\n",
    "# print (np.argmax(a))#列出最大值索引\n",
    "# print (np.mean(a))#平均值\n",
    "# print (np.average(a))#另一种平均值\n",
    "# print (np.median(a))#中位数\n",
    "# print (np.cumsum(a))#逐步累加\n",
    "# print (np.diff(a))#累差\n",
    "# print (np.nonzero(a))\n",
    "# print (np.sort(a))#排序\n",
    "# print(np.transpose(a))#行列转换\n",
    "# print ((a.T))##同上句意思\n",
    "# print ((a.T).dot(a))#矩阵乘法\n",
    "# print (np.clip(a,5,9))#把矩阵中小于5的数变成5，大于9的数等于9\n",
    "# print (np.mean(a,axis=0))#列平均值\n",
    "print (np.mean(a,axis=1))#行平均值计算\n",
    "# print (a)"
   ]
  },
  {
   "cell_type": "code",
   "execution_count": 94,
   "metadata": {},
   "outputs": [
    {
     "name": "stdout",
     "output_type": "stream",
     "text": [
      "[[ 3  4  5  6]\n",
      " [ 7  8  9 10]\n",
      " [11 12 13 14]]\n",
      "[ 3  4  5  6  7  8  9 10 11 12 13 14]\n",
      "3\n",
      "4\n",
      "5\n",
      "6\n",
      "7\n",
      "8\n",
      "9\n",
      "10\n",
      "11\n",
      "12\n",
      "13\n",
      "14\n"
     ]
    }
   ],
   "source": [
    "# import numpy as np\n",
    "\n",
    "a = np.arange(3,15).reshape(3,4)\n",
    "print (a)\n",
    "# print (a[2])\n",
    "# print (a[1][1])#多维索引\n",
    "# print (a[1,1])#同上句\n",
    "# print (a[2,:])#同列表用法\n",
    "# print (a[:,1])\n",
    "# print (a[1,1:2])\n",
    "# for row in a:\n",
    "#     print (row)\n",
    "# for column in a.T:##翻转后打印列\n",
    "#     print (column)\n",
    "\n",
    "print (a.flatten())#变成一行\n",
    "for item in a.flat:#行迭代\n",
    "    print (item)\n",
    "# print (a[3])#s索引，同列表\n"
   ]
  },
  {
   "cell_type": "code",
   "execution_count": 113,
   "metadata": {},
   "outputs": [
    {
     "name": "stdout",
     "output_type": "stream",
     "text": [
      "[[1]\n",
      " [1]\n",
      " [1]]\n",
      "[[1 2]\n",
      " [1 2]\n",
      " [1 2]]\n"
     ]
    }
   ],
   "source": [
    "import numpy as np\n",
    "\n",
    "a = np.array([1,1,1])\n",
    "b = np.array([2,2,2])\n",
    "\n",
    "# print (np.vstack((a,b)))#vertical stack\n",
    "# c = np.vstack((a,b))#c变为矩阵\n",
    "# d = np.hstack((a,b))#horizontal stack\n",
    "# print (d)\n",
    "# print (a.shape,c.shape)\n",
    "# print (a[np.newaxis,:])\n",
    "print (a[:,np.newaxis])\n",
    "c = np.concatenate((a[:,np.newaxis],b[:,np.newaxis]),axis=1)\n",
    "print (c)"
   ]
  },
  {
   "cell_type": "code",
   "execution_count": 120,
   "metadata": {},
   "outputs": [
    {
     "name": "stdout",
     "output_type": "stream",
     "text": [
      "[[ 0  1  2  3]\n",
      " [ 4  5  6  7]\n",
      " [ 8  9 10 11]]\n",
      "[array([[0, 1, 2, 3]]), array([[4, 5, 6, 7]]), array([[ 8,  9, 10, 11]])]\n",
      "[array([[0, 1],\n",
      "       [4, 5],\n",
      "       [8, 9]]), array([[ 2,  3],\n",
      "       [ 6,  7],\n",
      "       [10, 11]])]\n"
     ]
    }
   ],
   "source": [
    "import numpy as np\n",
    "\n",
    "a = np.arange(12).reshape((3,4))\n",
    "print (a)\n",
    "# print (np.split(a,2,axis= 1))\n",
    "# print (np.split(a,3,axis = 0))\n",
    "# print (np.array_split(a,3,axis = 1))##不等量分割\n",
    "print (np.vsplit(a,3))\n",
    "print (np.hsplit(a,2))"
   ]
  },
  {
   "cell_type": "code",
   "execution_count": 135,
   "metadata": {},
   "outputs": [
    {
     "name": "stdout",
     "output_type": "stream",
     "text": [
      "[0 1 2 3]\n",
      "[11  1  2  3]\n",
      "[11  1  2 44]\n",
      "[11  1  2  3]\n"
     ]
    }
   ],
   "source": [
    "import numpy as np\n",
    "\n",
    "a = np.arange(4)\n",
    "print (a)\n",
    "b = a\n",
    "c = a\n",
    "d = b\n",
    "a[0] = 11\n",
    "# print (a)\n",
    "# print (b)\n",
    "# print (c)\n",
    "# print (b) is (a)\n",
    "# print (d)\n",
    "# d[1:3] = [22,33]\n",
    "# print (a)\n",
    "# print (c)\n",
    "b = a.copy()#deep copy\n",
    "print (b)\n",
    "a[3] = 44\n",
    "print (a)\n",
    "print (b)"
   ]
  }
 ],
 "metadata": {
  "kernelspec": {
   "display_name": "Python 3",
   "language": "python",
   "name": "python3"
  },
  "language_info": {
   "codemirror_mode": {
    "name": "ipython",
    "version": 3
   },
   "file_extension": ".py",
   "mimetype": "text/x-python",
   "name": "python",
   "nbconvert_exporter": "python",
   "pygments_lexer": "ipython3",
   "version": "3.6.4"
  }
 },
 "nbformat": 4,
 "nbformat_minor": 2
}
