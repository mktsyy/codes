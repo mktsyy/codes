{
 "cells": [
  {
   "cell_type": "code",
   "execution_count": null,
   "metadata": {},
   "outputs": [],
   "source": [
    "\n",
    "# coding: utf-8\n",
    "\n",
    "# In[ ]:\n",
    "\n",
    "\n",
    "from pynput import mouse\n",
    "import time\n",
    "\n",
    "def on_move(x, y):\n",
    "    print('Pointer moved to {0}'.format(\n",
    "        (x, y)))\n",
    "\n",
    "def on_click(x, y, button, pressed):\n",
    "    print('{0} at {1}'.format(\n",
    "        'Pressed' if pressed else 'Released',\n",
    "        (x, y)))\n",
    "    if not pressed:\n",
    "        # Stop listener\n",
    "        return False\n",
    "\n",
    "def on_scroll(x, y, dx, dy):\n",
    "    print('Scrolled {0} at {1}'.format(\n",
    "        'down' if dy < 0 else 'up',\n",
    "        (x, y)))\n",
    "\n",
    "# Collect events until released\n",
    "def reStart():\n",
    "    with mouse.Listener(\n",
    "            on_move=on_move,\n",
    "            on_click=on_click,\n",
    "            on_scroll=on_scroll) as listener:\n",
    "        listener.join()\n",
    "        # return True\n",
    "\n",
    "while True:\n",
    "    if reStart():\n",
    "        reStart()\n",
    "    else:\n",
    "        ##如果点击鼠标，那就认为监听失效，休息10秒\n",
    "        time.sleep(10)\n",
    "        print ('it is False')"
   ]
  },
  {
   "cell_type": "code",
   "execution_count": null,
   "metadata": {},
   "outputs": [],
   "source": [
    "!pip install pynput\n"
   ]
  },
  {
   "cell_type": "code",
   "execution_count": null,
   "metadata": {},
   "outputs": [],
   "source": []
  }
 ],
 "metadata": {
  "kernelspec": {
   "display_name": "Python 2",
   "language": "python",
   "name": "python2"
  },
  "language_info": {
   "codemirror_mode": {
    "name": "ipython",
    "version": 2
   },
   "file_extension": ".py",
   "mimetype": "text/x-python",
   "name": "python",
   "nbconvert_exporter": "python",
   "pygments_lexer": "ipython2",
   "version": "2.7.9"
  }
 },
 "nbformat": 4,
 "nbformat_minor": 2
}
